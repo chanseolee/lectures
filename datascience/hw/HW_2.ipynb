{
 "cells": [
  {
   "cell_type": "code",
   "execution_count": 7,
   "id": "5df876ac-70cb-441c-b89c-0a95b8fca360",
   "metadata": {},
   "outputs": [
    {
     "name": "stdout",
     "output_type": "stream",
     "text": [
      "[['politics', 80], ['latin', 96], ['dance', 97], ['architecture', 65], ['physics', 98], ['calculus', 97], ['history', 88], ['computer science', 100], ['visual arts', 98], ['poetry', 'pass']]\n"
     ]
    }
   ],
   "source": [
    "#1\n",
    "subjects = ['physics', 'calculus', 'poetry', 'history']\n",
    "\n",
    "#2\n",
    "grades = [98, 97, 85, 88]\n",
    "\n",
    "#3\n",
    "gradebook = [['physics', 98], ['calculus', 97], ['poetry', 85], ['history', 88]]\n",
    "\n",
    "#5\n",
    "gradebook.append(['computer science' , 100])\n",
    "\n",
    "#6\n",
    "gradebook.append([\"visual arts\", 93])\n",
    "\n",
    "#7\n",
    "gradebook.remove([\"visual arts\", 93])\n",
    "\n",
    "gradebook.append([\"visual arts\", 98])\n",
    "\n",
    "#8\n",
    "gradebook.remove(['poetry', 85])\n",
    "\n",
    "#9\n",
    "gradebook.append(['poetry', 'pass'])\n",
    "\n",
    "#10\n",
    "last_semester_gradebook = [[\"politics\", 80], [\"latin\", 96], [\"dance\", 97], [\"architecture\", 65]]\n",
    "\n",
    "full_gradebook = last_semester_gradebook + gradebook\n",
    "\n",
    "print(full_gradebook)"
   ]
  },
  {
   "cell_type": "code",
   "execution_count": null,
   "id": "75f6efac-c13c-4936-a443-d4ed8e025c0a",
   "metadata": {},
   "outputs": [],
   "source": []
  }
 ],
 "metadata": {
  "kernelspec": {
   "display_name": "Python 3",
   "language": "python",
   "name": "python3"
  },
  "language_info": {
   "codemirror_mode": {
    "name": "ipython",
    "version": 3
   },
   "file_extension": ".py",
   "mimetype": "text/x-python",
   "name": "python",
   "nbconvert_exporter": "python",
   "pygments_lexer": "ipython3",
   "version": "3.8.8"
  }
 },
 "nbformat": 4,
 "nbformat_minor": 5
}
