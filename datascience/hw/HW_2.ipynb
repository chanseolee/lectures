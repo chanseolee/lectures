#1
subjects = ['physics', 'calculus', 'poetry', 'history']

#2
grades = [98, 97, 85, 88]

#3
gradebook = [['physics', 98], ['calculus', 97], ['poetry', 85], ['history', 88]]

#5
gradebook.append(['computer science' , 100])

#6
gradebook.append(["visual arts", 93])

#7
gradebook.remove(["visual arts", 93])

gradebook.append(["visual arts", 98])

#8
gradebook.remove(['poetry', 85])

#9
gradebook.append(['poetry', 'pass'])

#10
last_semester_gradebook = [["politics", 80], ["latin", 96], ["dance", 97], ["architecture", 65]]

full_gradebook = last_semester_gradebook + gradebook

print(full_gradebook)
