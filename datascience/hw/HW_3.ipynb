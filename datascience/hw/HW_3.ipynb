{
 "cells": [
  {
   "cell_type": "code",
   "execution_count": 40,
   "id": "23f61d38-a961-4eb2-ba13-8d86c70ff0b6",
   "metadata": {},
   "outputs": [
    {
     "name": "stdout",
     "output_type": "stream",
     "text": [
      "average_price is  31.875\n",
      "[25, 20, 35, 15, 15, 30, 45, 30]\n",
      "1085\n",
      "average_daily_revenue is 155.0\n",
      "['bouffant', 'pixie', 'crew', 'bowl']\n"
     ]
    }
   ],
   "source": [
    "hairstyles = [\"bouffant\", \"pixie\", \"dreadlocks\", \"crew\", \"bowl\", \"bob\", \"mohawk\", \"flattop\"]\n",
    "\n",
    "prices = [30, 25, 40, 20, 20, 35, 50, 35]\n",
    "\n",
    "last_week = [2, 3, 5, 8, 4, 4, 6, 2]\n",
    "#1\n",
    "total_price = 0\n",
    "\n",
    "#2\n",
    "total_price = sum(prices)\n",
    "\n",
    "#3\n",
    "average_price = (total_price / len(prices))\n",
    "\n",
    "#4\n",
    "print(\"average_price is \" ,average_price)\n",
    "\n",
    "#5\n",
    "new_prices = [25, 20, 35, 15, 15, 30, 45, 30]\n",
    "\n",
    "#6\n",
    "print(new_prices)\n",
    "\n",
    "#7\n",
    "total_revenue = 0\n",
    "\n",
    "#9\n",
    "for i in range(len(hairstyles)):\n",
    "    total_revenue += prices[i] * last_week[i]\n",
    "  \n",
    "    \n",
    "#10\n",
    "print(total_revenue)\n",
    "\n",
    "#11\n",
    "average_daily_revenue = total_revenue / 7\n",
    "\n",
    "print(\"average_daily_revenue is\" , average_daily_revenue)\n",
    "\n",
    "#12\n",
    "cuts_under_30  = [hairstyles[i] for i in range(len(new_prices) - 1) if new_prices[i] < 30]\n",
    "\n",
    "#13\n",
    "print(cuts_under_30)"
   ]
  },
  {
   "cell_type": "code",
   "execution_count": null,
   "id": "2f7e706f-bcfc-4a5d-b0c6-eabf229c469a",
   "metadata": {},
   "outputs": [],
   "source": []
  },
  {
   "cell_type": "code",
   "execution_count": null,
   "id": "7dfdd136-3fe8-41a0-8ec4-1ae0cde0a6b1",
   "metadata": {},
   "outputs": [],
   "source": []
  },
  {
   "cell_type": "code",
   "execution_count": null,
   "id": "42cbd730-8b62-4ee6-b801-70bcd75dd004",
   "metadata": {},
   "outputs": [],
   "source": []
  }
 ],
 "metadata": {
  "kernelspec": {
   "display_name": "Python 3",
   "language": "python",
   "name": "python3"
  },
  "language_info": {
   "codemirror_mode": {
    "name": "ipython",
    "version": 3
   },
   "file_extension": ".py",
   "mimetype": "text/x-python",
   "name": "python",
   "nbconvert_exporter": "python",
   "pygments_lexer": "ipython3",
   "version": "3.8.8"
  }
 },
 "nbformat": 4,
 "nbformat_minor": 5
}
