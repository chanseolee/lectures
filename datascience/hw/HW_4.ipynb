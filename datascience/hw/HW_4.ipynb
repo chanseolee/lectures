{
 "cells": [
  {
   "cell_type": "code",
   "execution_count": 28,
   "id": "fb77d8bb-c0e3-4b57-8bd7-bae6fea484fb",
   "metadata": {},
   "outputs": [
    {
     "name": "stdout",
     "output_type": "stream",
     "text": [
      "당신의 조선시대 이름은 이쌍님 입니다\n"
     ]
    }
   ],
   "source": [
    "month_name = ['쌍', '쇠', '복', '돌', '팽', '육', '쌍', '개', '칠', '갑', '삼', '방']\n",
    "day_name = ['봉', '구', '욕', '포', '똥', '삼', '식', '석', '놈', '님', '년', '돌', '단', '득', '방', '질', '장', '걸', '래', '룡', '동', '순', '자', '박', '창', '언', '것', '포', '만', '단', '국']\n",
    "\n",
    "def get_my_chosun_name(family_name, month, day):\n",
    "    month = month_name[month - 1]\n",
    "    day = day_name[day - 1]\n",
    "\n",
    "    return print(\"당신의 조선시대 이름은 %s%s%s 입니다\" %(family_name, month, day)) \n",
    "    \n",
    "get_my_chosun_name('이', 7, 10)"
   ]
  },
  {
   "cell_type": "code",
   "execution_count": null,
   "id": "513b9b97-72cd-48a5-8485-721cfd69d2f6",
   "metadata": {},
   "outputs": [],
   "source": []
  },
  {
   "cell_type": "code",
   "execution_count": null,
   "id": "9b960a12-83b2-44cd-a1aa-227b1f83b6dc",
   "metadata": {},
   "outputs": [],
   "source": []
  }
 ],
 "metadata": {
  "kernelspec": {
   "display_name": "Python 3",
   "language": "python",
   "name": "python3"
  },
  "language_info": {
   "codemirror_mode": {
    "name": "ipython",
    "version": 3
   },
   "file_extension": ".py",
   "mimetype": "text/x-python",
   "name": "python",
   "nbconvert_exporter": "python",
   "pygments_lexer": "ipython3",
   "version": "3.8.8"
  }
 },
 "nbformat": 4,
 "nbformat_minor": 5
}
