month_name = ['쌍', '쇠', '복', '돌', '팽', '육', '쌍', '개', '칠', '갑', '삼', '방']
day_name = ['봉', '구', '욕', '포', '똥', '삼', '식', '석', '놈', '님', '년', '돌', '단', '득', '방', '질', '장', '걸', '래', '룡', '동', '순', '자', '박', '창', '언', '것', '포', '만', '단', '국']

def get_my_chosun_name(family_name, month, day):
    month = month_name[month - 1]
    day = day_name[day - 1]

    return print("당신의 조선시대 이름은 %s%s%s 입니다" %(family_name, month, day)) 
    
get_my_chosun_name('이', 7, 10)
