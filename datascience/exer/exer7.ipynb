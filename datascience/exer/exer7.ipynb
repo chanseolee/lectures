{
 "cells": [
  {
   "cell_type": "code",
   "execution_count": 3,
   "id": "3f7a0c09-eddb-4d7b-9142-3a21bb8d9961",
   "metadata": {},
   "outputs": [],
   "source": [
    "import numpy as np"
   ]
  },
  {
   "cell_type": "code",
   "execution_count": 4,
   "id": "e9ef6622-72dd-4e58-b037-9ebd513306cb",
   "metadata": {},
   "outputs": [
    {
     "name": "stdout",
     "output_type": "stream",
     "text": [
      "[[1. 1. 1.]\n",
      " [1. 1. 1.]\n",
      " [1. 1. 1.]]\n",
      "[0 1 2]\n",
      "[[1. 2. 3.]\n",
      " [1. 2. 3.]\n",
      " [1. 2. 3.]]\n"
     ]
    }
   ],
   "source": [
    "x = np.ones((3,3))\n",
    "print(x)\n",
    "y = np.arange(3)\n",
    "print(y)\n",
    "print(x+y)"
   ]
  },
  {
   "cell_type": "code",
   "execution_count": 5,
   "id": "d399799b-f6a9-4795-9e6f-2d1f82665845",
   "metadata": {},
   "outputs": [
    {
     "name": "stdout",
     "output_type": "stream",
     "text": [
      "[0 1 2]\n",
      "[[0]\n",
      " [1]\n",
      " [2]]\n",
      "[0 1 2]\n",
      "[[0 1 2]\n",
      " [1 2 3]\n",
      " [2 3 4]]\n"
     ]
    }
   ],
   "source": [
    "a = np.arange(3)\n",
    "print(a)\n",
    "a = a[:,np.newaxis]\n",
    "print(a)\n",
    "\n",
    "b = np.arange(3)\n",
    "print(b)\n",
    "\n",
    "print(a+b)"
   ]
  },
  {
   "cell_type": "code",
   "execution_count": 6,
   "id": "0c1b490c-3b66-4666-8195-c95c35255e7a",
   "metadata": {},
   "outputs": [
    {
     "name": "stdout",
     "output_type": "stream",
     "text": [
      "[[1. 1. 1.]\n",
      " [1. 1. 1.]]\n",
      "[0 1 2]\n",
      "[[1. 2. 3.]\n",
      " [1. 2. 3.]]\n"
     ]
    }
   ],
   "source": [
    "a = np.ones((2,3))\n",
    "print(a)\n",
    "b = np.arange(3)\n",
    "print(b)\n",
    "\n",
    "print(a+b)"
   ]
  },
  {
   "cell_type": "code",
   "execution_count": 7,
   "id": "05df8467-ba6b-4e8f-afe9-248efcdedc82",
   "metadata": {},
   "outputs": [
    {
     "name": "stdout",
     "output_type": "stream",
     "text": [
      "[1 2 3 4 5]\n",
      "[ True  True False False False]\n",
      "[False False False  True  True]\n"
     ]
    }
   ],
   "source": [
    "x = np.array([1, 2, 3, 4, 5])\n",
    "print(x)\n",
    "\n",
    "print(x < 3)\n",
    "print(x >= 4)"
   ]
  },
  {
   "cell_type": "code",
   "execution_count": 8,
   "id": "2eda2757-5eaa-4f2e-a7b6-05f06b785510",
   "metadata": {},
   "outputs": [
    {
     "name": "stdout",
     "output_type": "stream",
     "text": [
      "[[5 0 3 3]\n",
      " [7 9 3 5]\n",
      " [2 4 7 6]]\n",
      "[[ True  True  True  True]\n",
      " [False False  True  True]\n",
      " [ True  True False False]]\n"
     ]
    }
   ],
   "source": [
    "np.random.seed(0)\n",
    "x = np.random.randint(10, size = (3, 4))\n",
    "print(x)\n",
    "\n",
    "print(x < 6)\n",
    "\n"
   ]
  },
  {
   "cell_type": "code",
   "execution_count": 9,
   "id": "c5f01ebd-103a-4470-9353-a3abb80916bb",
   "metadata": {},
   "outputs": [
    {
     "name": "stdout",
     "output_type": "stream",
     "text": [
      "[[5 0 3 3]\n",
      " [7 9 3 5]\n",
      " [2 4 7 6]]\n",
      "8\n",
      "8\n",
      "False\n",
      "False\n"
     ]
    }
   ],
   "source": [
    "print(x)\n",
    "print(np.count_nonzero(x < 6))\n",
    "print(np.sum(x < 6))\n",
    "print(np.any(x > 9))\n",
    "print(np.all(x > 1))"
   ]
  },
  {
   "cell_type": "code",
   "execution_count": 10,
   "id": "1fe727d7-c31d-406c-8ef1-64dec4e45efd",
   "metadata": {},
   "outputs": [
    {
     "name": "stdout",
     "output_type": "stream",
     "text": [
      "[[False  True  True  True]\n",
      " [False False  True False]\n",
      " [ True  True False False]]\n",
      "1.2583057392117916\n"
     ]
    }
   ],
   "source": [
    "print(x<5)\n",
    "\n",
    "print(np.std(x[x < 5]))"
   ]
  },
  {
   "cell_type": "code",
   "execution_count": 11,
   "id": "8e698416-7ad8-4d1b-89bb-ea89e7da8ea9",
   "metadata": {},
   "outputs": [
    {
     "name": "stdout",
     "output_type": "stream",
     "text": [
      "[37 12 72  9 75  5 79 64 16  1]\n",
      "72 75 79\n",
      "[72 75 79]\n"
     ]
    }
   ],
   "source": [
    "np.random.seed(1)\n",
    "x = np.random.randint(100, size=10)\n",
    "print(x)\n",
    "\n",
    "print(x[2], x[4], x[6])\n",
    "\n",
    "ind = [2, 4, 6]\n",
    "print(x[ind])"
   ]
  },
  {
   "cell_type": "code",
   "execution_count": 12,
   "id": "1b4591df-b143-42b8-94f2-3e43501b8159",
   "metadata": {},
   "outputs": [
    {
     "name": "stdout",
     "output_type": "stream",
     "text": [
      "[[8 8 6 2 8]\n",
      " [7 2 1 5 4]\n",
      " [4 5 7 3 6]]\n"
     ]
    },
    {
     "data": {
      "text/plain": [
       "array([8, 5, 7])"
      ]
     },
     "execution_count": 12,
     "metadata": {},
     "output_type": "execute_result"
    }
   ],
   "source": [
    "np.random.seed(2)\n",
    "x = np.random.randint(10, size=(3,5))\n",
    "print(x)\n",
    "\n",
    "row = [0, 1, 2]\n",
    "col = [1, 3, 2]\n",
    "\n",
    "x[row, col]"
   ]
  },
  {
   "cell_type": "code",
   "execution_count": 18,
   "id": "ce773c18-6040-472b-b568-f9a1b138abc1",
   "metadata": {},
   "outputs": [
    {
     "name": "stdout",
     "output_type": "stream",
     "text": [
      "[[8 8 6 2 8]\n",
      " [7 2 1 5 4]\n",
      " [4 5 7 3 6]]\n"
     ]
    },
    {
     "data": {
      "text/plain": [
       "array([[6, 8, 8],\n",
       "       [1, 2, 4],\n",
       "       [7, 5, 6]])"
      ]
     },
     "execution_count": 18,
     "metadata": {},
     "output_type": "execute_result"
    }
   ],
   "source": [
    "print(x)\n",
    "row = np.array([0, 1, 2])\n",
    "col = np.array([2, 1, 4])\n",
    "\n",
    "x[row[:, np.newaxis], col]"
   ]
  },
  {
   "cell_type": "code",
   "execution_count": 20,
   "id": "a564866c-7664-43f8-9029-0615c1b70ac4",
   "metadata": {},
   "outputs": [
    {
     "name": "stdout",
     "output_type": "stream",
     "text": [
      "[[ 1  2  3  4]\n",
      " [ 5  6  7  8]\n",
      " [ 9 10 11 12]]\n"
     ]
    },
    {
     "data": {
      "text/plain": [
       "array([11,  9, 10])"
      ]
     },
     "execution_count": 20,
     "metadata": {},
     "output_type": "execute_result"
    }
   ],
   "source": [
    "x = np.arange(1, 13).reshape(3,4)\n",
    "print(x)\n",
    "\n",
    "x[2, [2,0,1]]"
   ]
  },
  {
   "cell_type": "code",
   "execution_count": 28,
   "id": "904774aa-3af8-4f57-8e96-b58f971a7996",
   "metadata": {},
   "outputs": [
    {
     "name": "stdout",
     "output_type": "stream",
     "text": [
      "[[-1.26659039e+00 -3.71998007e+00]\n",
      " [ 8.98574387e-01  1.00797760e+00]\n",
      " [ 8.12283322e-02 -2.29506499e+00]\n",
      " [-1.32069461e+00 -4.01236325e+00]\n",
      " [-1.99323780e-01 -7.51126722e-01]\n",
      " [-5.62429879e-01 -3.58770608e+00]\n",
      " [ 4.44845894e-01  6.58255553e-01]\n",
      " [-6.26556217e-01 -2.70315425e+00]\n",
      " [ 4.95244764e-01  2.45439522e-01]\n",
      " [-2.62034143e-01 -1.77174030e-03]\n",
      " [ 5.78772733e-01  2.63632100e+00]\n",
      " [-1.02525747e+00 -1.93129454e+00]\n",
      " [-5.70631049e-01 -2.11768692e+00]\n",
      " [ 4.71639223e-01  1.25768272e-01]\n",
      " [ 4.45380634e-02  6.81577017e-01]\n",
      " [ 7.90842213e-01  1.47981907e+00]\n",
      " [ 9.58310989e-01  1.39872339e+00]\n",
      " [ 6.24997094e-01  1.49516840e+00]\n",
      " [ 9.42553159e-01  2.52925434e+00]\n",
      " [-1.81742527e+00 -3.58446991e+00]\n",
      " [ 5.16913839e-01  2.87177733e-01]\n",
      " [ 4.26099193e-02  1.93476910e+00]\n",
      " [ 1.96827436e-01 -2.14295655e-01]\n",
      " [-9.80115753e-01 -9.29089657e-02]\n",
      " [-3.47205801e-01 -1.70173123e-01]\n",
      " [-1.42521035e-01 -7.25348701e-01]\n",
      " [ 1.18923685e+00  2.49294590e+00]\n",
      " [-3.14978696e-02  5.58913783e-01]\n",
      " [-1.13143694e+00 -1.72371279e+00]\n",
      " [-6.02577143e-01 -4.96680020e-01]\n",
      " [ 2.17520931e-01  1.88123670e+00]\n",
      " [-3.59810173e-01 -1.19131196e+00]\n",
      " [-4.22411874e-01 -1.10159071e+00]\n",
      " [-1.62709795e+00 -2.28312406e+00]\n",
      " [-1.48479237e+00 -5.09616263e+00]\n",
      " [ 1.52723792e+00  3.14104857e+00]\n",
      " [-4.83150303e-01 -2.18069608e-01]\n",
      " [ 4.82254235e-01 -1.02455011e+00]\n",
      " [-3.39565581e-02  8.14214912e-01]\n",
      " [-5.04188871e-01 -3.92424651e-01]\n",
      " [ 2.82231207e-01  4.64067441e-01]\n",
      " [-3.29280222e-01 -3.51116074e-01]\n",
      " [-2.28747690e-01 -4.23431745e-01]\n",
      " [ 4.75123754e-01  1.55572231e+00]\n",
      " [-5.44782958e-01 -9.26778324e-02]\n",
      " [-1.17851198e+00 -2.64476775e+00]\n",
      " [ 5.91149629e-01  7.35804640e-01]\n",
      " [-4.20854529e-01 -9.32320424e-01]\n",
      " [ 3.00995578e-01  7.73856505e-01]\n",
      " [ 3.05680795e-01  1.49352315e+00]\n",
      " [-5.55058820e-02  1.19139454e+00]\n",
      " [-5.99930336e-01 -8.05875190e-01]\n",
      " [ 9.46746793e-01  2.46898717e+00]\n",
      " [-3.19219528e-01 -1.80294221e+00]\n",
      " [ 2.33472782e-01  5.98954888e-01]\n",
      " [ 1.14798871e+00  3.11261598e+00]\n",
      " [-4.52827993e-01 -2.02355683e+00]\n",
      " [ 1.78326865e-01 -9.89886193e-01]\n",
      " [ 6.54079300e-01 -1.69812278e-01]\n",
      " [-1.19253433e+00 -2.43644180e+00]\n",
      " [ 3.19384611e-01 -6.79662317e-02]\n",
      " [-1.92957428e+00 -2.52922881e+00]\n",
      " [ 1.24349192e+00  4.34006937e+00]\n",
      " [-1.63310469e+00 -3.57680227e+00]\n",
      " [ 7.77591240e-01  2.81174955e+00]\n",
      " [ 3.98258983e-01  3.07803261e-01]\n",
      " [ 9.25743957e-01  2.83084111e+00]\n",
      " [-4.93843157e-01 -1.86714765e+00]\n",
      " [-4.30293322e-02 -1.34250819e+00]\n",
      " [-7.58643529e-01 -1.78112342e+00]\n",
      " [ 2.11304453e-01  4.00005138e-01]\n",
      " [-1.08991624e+00 -1.81905086e+00]\n",
      " [-5.41858148e-01 -1.15911457e+00]\n",
      " [-3.08541228e-01 -7.55544459e-02]\n",
      " [-4.75998080e-01 -4.10372701e-01]\n",
      " [ 1.21828261e+00  3.05745001e-01]\n",
      " [-1.79666967e+00 -1.97037456e+00]\n",
      " [-3.69439827e-01 -1.00031388e+00]\n",
      " [ 1.71618571e-01  2.85460558e-01]\n",
      " [ 4.13293782e-01 -2.16684866e-01]\n",
      " [ 8.59278635e-01  9.95308072e-01]\n",
      " [-1.16340799e-01 -6.01953603e-01]\n",
      " [-3.90659602e-01 -1.13223305e+00]\n",
      " [-9.92970779e-01 -2.16611609e+00]\n",
      " [-1.29823673e+00 -5.18682700e+00]\n",
      " [ 2.52688990e-01  1.58580757e+00]\n",
      " [-2.24071996e+00 -5.67869687e+00]\n",
      " [ 4.62618221e-02 -1.33274853e-01]\n",
      " [-1.12015802e+00 -3.01528046e+00]\n",
      " [-5.05919832e-01 -1.56754928e+00]\n",
      " [ 1.05570147e+00  2.88807041e+00]\n",
      " [-9.59778270e-01 -9.17332107e-01]\n",
      " [ 3.38293981e-01  1.48486034e-01]\n",
      " [-6.12049556e-01 -1.21704639e+00]\n",
      " [-2.31321700e-01 -6.37596605e-01]\n",
      " [-1.21341180e+00 -2.52949918e+00]\n",
      " [-2.18485819e+00 -4.07211516e+00]\n",
      " [ 1.39110726e-02 -1.72794227e+00]\n",
      " [-7.17305491e-01 -1.27681847e+00]\n",
      " [-1.14891234e+00 -1.64322377e+00]]\n",
      "(100, 2)\n"
     ]
    }
   ],
   "source": [
    "mean = [0,0]\n",
    "cov = [[1,2],\n",
    "      [2,5]]\n",
    "\n",
    "rand = np.random.RandomState(1)\n",
    "x = rand.multivariate_normal(mean, cov, 100)\n",
    "print(x)\n",
    "print(x.shape)"
   ]
  },
  {
   "cell_type": "code",
   "execution_count": 25,
   "id": "c5d702f4-3846-4356-bbbf-2b80555450f5",
   "metadata": {},
   "outputs": [
    {
     "ename": "NameError",
     "evalue": "name 'plt' is not defined",
     "output_type": "error",
     "traceback": [
      "\u001b[1;31m---------------------------------------------------------------------------\u001b[0m",
      "\u001b[1;31mNameError\u001b[0m                                 Traceback (most recent call last)",
      "\u001b[1;32m<ipython-input-25-5c87dab17500>\u001b[0m in \u001b[0;36m<module>\u001b[1;34m\u001b[0m\n\u001b[1;32m----> 1\u001b[1;33m \u001b[0mplt\u001b[0m\u001b[1;33m.\u001b[0m\u001b[0mscatter\u001b[0m\u001b[1;33m(\u001b[0m\u001b[0mx\u001b[0m\u001b[1;33m[\u001b[0m\u001b[1;33m:\u001b[0m\u001b[1;33m,\u001b[0m \u001b[1;36m0\u001b[0m\u001b[1;33m]\u001b[0m\u001b[1;33m,\u001b[0m \u001b[0mx\u001b[0m\u001b[1;33m[\u001b[0m\u001b[1;33m:\u001b[0m\u001b[1;33m,\u001b[0m\u001b[1;36m1\u001b[0m\u001b[1;33m]\u001b[0m\u001b[1;33m)\u001b[0m\u001b[1;33m;\u001b[0m\u001b[1;33m\u001b[0m\u001b[1;33m\u001b[0m\u001b[0m\n\u001b[0m",
      "\u001b[1;31mNameError\u001b[0m: name 'plt' is not defined"
     ]
    }
   ],
   "source": []
  },
  {
   "cell_type": "code",
   "execution_count": 27,
   "id": "d637dc2f-bdd1-482b-b19e-59aad8721b34",
   "metadata": {},
   "outputs": [
    {
     "ename": "TypeError",
     "evalue": "choice() got an unexpected keyword argument 'relace'",
     "output_type": "error",
     "traceback": [
      "\u001b[1;31m---------------------------------------------------------------------------\u001b[0m",
      "\u001b[1;31mTypeError\u001b[0m                                 Traceback (most recent call last)",
      "\u001b[1;32m<ipython-input-27-f1e21f1c7e38>\u001b[0m in \u001b[0;36m<module>\u001b[1;34m\u001b[0m\n\u001b[1;32m----> 1\u001b[1;33m \u001b[0mind\u001b[0m \u001b[1;33m=\u001b[0m \u001b[0mnp\u001b[0m\u001b[1;33m.\u001b[0m\u001b[0mrandom\u001b[0m\u001b[1;33m.\u001b[0m\u001b[0mchoice\u001b[0m\u001b[1;33m(\u001b[0m\u001b[0mx\u001b[0m\u001b[1;33m.\u001b[0m\u001b[0mshape\u001b[0m\u001b[1;33m[\u001b[0m\u001b[1;36m0\u001b[0m\u001b[1;33m]\u001b[0m\u001b[1;33m,\u001b[0m \u001b[1;36m20\u001b[0m\u001b[1;33m,\u001b[0m \u001b[0mrelace\u001b[0m\u001b[1;33m=\u001b[0m\u001b[1;32mFalse\u001b[0m\u001b[1;33m)\u001b[0m\u001b[1;33m\u001b[0m\u001b[1;33m\u001b[0m\u001b[0m\n\u001b[0m\u001b[0;32m      2\u001b[0m \u001b[0mprint\u001b[0m\u001b[1;33m(\u001b[0m\u001b[0mind\u001b[0m\u001b[1;33m)\u001b[0m\u001b[1;33m\u001b[0m\u001b[1;33m\u001b[0m\u001b[0m\n",
      "\u001b[1;32mmtrand.pyx\u001b[0m in \u001b[0;36mnumpy.random.mtrand.RandomState.choice\u001b[1;34m()\u001b[0m\n",
      "\u001b[1;31mTypeError\u001b[0m: choice() got an unexpected keyword argument 'relace'"
     ]
    }
   ],
   "source": []
  },
  {
   "cell_type": "code",
   "execution_count": null,
   "id": "757995d0-f26a-49b9-bd16-4a366f339308",
   "metadata": {},
   "outputs": [],
   "source": []
  }
 ],
 "metadata": {
  "kernelspec": {
   "display_name": "Python 3",
   "language": "python",
   "name": "python3"
  },
  "language_info": {
   "codemirror_mode": {
    "name": "ipython",
    "version": 3
   },
   "file_extension": ".py",
   "mimetype": "text/x-python",
   "name": "python",
   "nbconvert_exporter": "python",
   "pygments_lexer": "ipython3",
   "version": "3.8.8"
  }
 },
 "nbformat": 4,
 "nbformat_minor": 5
}
