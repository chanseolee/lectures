{
 "cells": [
  {
   "cell_type": "code",
   "execution_count": 26,
   "id": "c89ddca4-15e8-4bbf-b259-ca27184c04fb",
   "metadata": {},
   "outputs": [],
   "source": [
    "import numpy as np"
   ]
  },
  {
   "cell_type": "code",
   "execution_count": 27,
   "id": "505fc887-457b-4193-b4a4-780ce907a390",
   "metadata": {},
   "outputs": [
    {
     "name": "stdout",
     "output_type": "stream",
     "text": [
      "[0 1 2]\n",
      "[3 4 5 6 7 8]\n",
      "[3 5 7]\n"
     ]
    }
   ],
   "source": [
    "print(np.arange(3))\n",
    "print(np.arange(3,9))\n",
    "print(np.arange(3,9,2))"
   ]
  },
  {
   "cell_type": "code",
   "execution_count": 28,
   "id": "74c9940a-bd18-4d28-a855-ae42f24ba4d8",
   "metadata": {},
   "outputs": [
    {
     "name": "stdout",
     "output_type": "stream",
     "text": [
      "[5 2 4 2 4 7]\n"
     ]
    }
   ],
   "source": [
    "arr1 = np.random.randint(10, size=6)\n",
    "print(arr1)"
   ]
  },
  {
   "cell_type": "code",
   "execution_count": 29,
   "id": "3653ba30-77c4-42fe-b5c6-4275ae4fcce5",
   "metadata": {},
   "outputs": [
    {
     "name": "stdout",
     "output_type": "stream",
     "text": [
      "[5 0 3 3 7 9]\n",
      "[[3 5 2 4]\n",
      " [7 6 8 8]\n",
      " [1 6 7 7]]\n",
      "[[[8 1 5 9 8]\n",
      "  [9 4 3 0 3]\n",
      "  [5 0 2 3 8]\n",
      "  [1 3 3 3 7]]\n",
      "\n",
      " [[0 1 9 9 0]\n",
      "  [4 7 3 2 7]\n",
      "  [2 0 0 4 5]\n",
      "  [5 6 8 4 1]]\n",
      "\n",
      " [[4 9 8 1 1]\n",
      "  [7 9 9 3 6]\n",
      "  [7 2 0 3 5]\n",
      "  [9 4 4 6 4]]]\n"
     ]
    }
   ],
   "source": [
    "np.random.seed(0)\n",
    "arr1 = np.random.randint(10, size=6)\n",
    "print(arr1)\n",
    "arr1 = np.random.randint(10, size=(3,4))\n",
    "print(arr1)\n",
    "arr1 = np.random.randint(10, size=(3,4,5))\n",
    "print(arr1)"
   ]
  },
  {
   "cell_type": "code",
   "execution_count": 30,
   "id": "cbbe9bb5-be4c-4821-b087-cadca5de8ee9",
   "metadata": {},
   "outputs": [
    {
     "name": "stdout",
     "output_type": "stream",
     "text": [
      "[[4 3 4 4]\n",
      " [8 4 3 7]\n",
      " [5 5 0 1]]\n",
      "arr2.ndim = 2\n",
      "arr2.shape = (3, 4)\n",
      "arr2.size = 12\n",
      "arr2.dtype = int32\n",
      "arr2.itemsize = 4\n",
      "arr2.nbytes = 48\n"
     ]
    }
   ],
   "source": [
    "arr2 = np.random.randint(10, size=(3,4))\n",
    "print(arr2)\n",
    "\n",
    "print(\"arr2.ndim =\", arr2.ndim)\n",
    "print(\"arr2.shape =\", arr2.shape)\n",
    "print(\"arr2.size =\", arr2.size)\n",
    "print(\"arr2.dtype =\", arr2.dtype)\n",
    "print(\"arr2.itemsize =\", arr2.itemsize)\n",
    "print(\"arr2.nbytes =\", arr2.nbytes)"
   ]
  },
  {
   "cell_type": "code",
   "execution_count": 31,
   "id": "de954bd5-c206-4b2f-97b6-89aea8c40d7b",
   "metadata": {},
   "outputs": [
    {
     "name": "stdout",
     "output_type": "stream",
     "text": [
      "[0 1 2 3 4 5 6 7 8 9]\n",
      "[3 4 5 6]\n",
      "[0 1 2 3 4]\n",
      "[5 6 7 8 9]\n",
      "[0 3 6 9]\n",
      "[2 4 6]\n"
     ]
    }
   ],
   "source": [
    "arr = np.arange(10)\n",
    "print(arr)\n",
    "\n",
    "print(arr[3:7])\n",
    "print(arr[:5])\n",
    "print(arr[5:])\n",
    "print(arr[::3])\n",
    "print(arr[2:8:2])"
   ]
  },
  {
   "cell_type": "code",
   "execution_count": 32,
   "id": "0a7382b2-7153-4a14-bac0-acc90725aba9",
   "metadata": {},
   "outputs": [
    {
     "name": "stdout",
     "output_type": "stream",
     "text": [
      "[[5 0 3 3 7 9 3 5]\n",
      " [2 4 7 6 8 8 1 6]\n",
      " [7 7 8 1 5 9 8 9]\n",
      " [4 3 0 3 5 0 2 3]\n",
      " [8 1 3 3 3 7 0 1]\n",
      " [9 9 0 4 7 3 2 7]]\n"
     ]
    }
   ],
   "source": [
    "np.random.seed(0)\n",
    "arr3 = np.random.randint(10, size=(6, 8))\n",
    "print(arr3)\n",
    "\n",
    "arr3_sub = arr3[3:5, 4:7]"
   ]
  },
  {
   "cell_type": "code",
   "execution_count": 33,
   "id": "be14e8ad-06b6-4cb0-92fe-061cc55dc72b",
   "metadata": {},
   "outputs": [
    {
     "name": "stdout",
     "output_type": "stream",
     "text": [
      "[[5 8 9 5]\n",
      " [0 0 1 7]\n",
      " [6 9 2 4]] \n",
      "\n",
      "[[5 8]\n",
      " [0 0]] \n",
      "\n",
      "[[99  8  9  5]\n",
      " [ 0  0  1  7]\n",
      " [ 6  9  2  4]]\n"
     ]
    }
   ],
   "source": [
    "np.random.seed(1)\n",
    "arr = np.random.randint(10, size=(3,4))\n",
    "print(arr, '\\n')\n",
    "\n",
    "arr_sub = arr[:2, :2]\n",
    "print(arr_sub, '\\n')\n",
    "\n",
    "arr_sub[0,0] = 99\n",
    "print(arr)"
   ]
  },
  {
   "cell_type": "code",
   "execution_count": 34,
   "id": "6942805e-6d76-4975-8b50-570241930f17",
   "metadata": {},
   "outputs": [
    {
     "name": "stdout",
     "output_type": "stream",
     "text": [
      "[[12  5  2  4]\n",
      " [ 7  6  8  8]\n",
      " [ 1  6  7  7]]\n",
      "[[12  5]\n",
      " [ 7  6]] \n",
      "\n",
      "[[99  5]\n",
      " [ 7  6]]\n"
     ]
    }
   ],
   "source": [
    "arr = np.array([[12, 5 ,2 ,4], [7, 6, 8, 8], [1, 6, 7, 7]])\n",
    "print(arr)\n",
    "\n",
    "arr_sub = arr[:2, :2].copy()\n",
    "print(arr_sub, '\\n')\n",
    "\n",
    "arr_sub[0,0] = 99\n",
    "print(arr_sub)"
   ]
  },
  {
   "cell_type": "code",
   "execution_count": 38,
   "id": "afd08ebb-07be-4077-87ab-7a3ef0662d29",
   "metadata": {},
   "outputs": [
    {
     "name": "stdout",
     "output_type": "stream",
     "text": [
      "[1 2 3]\n",
      "arr.ndim =  1\n",
      "arr.shape =  (3,)\n",
      "[[1]\n",
      " [2]\n",
      " [3]]\n",
      "arr_new.ndim =  2\n",
      "arr_new.shape =  (3, 1)\n"
     ]
    }
   ],
   "source": [
    "arr = np.array([1, 2, 3])\n",
    "print(arr)\n",
    "print(\"arr.ndim = \", arr.ndim)\n",
    "print(\"arr.shape = \", arr.shape)\n",
    "\n",
    "arr_new = arr[: , np.newaxis]\n",
    "print(arr_new)\n",
    "print(\"arr_new.ndim = \", arr_new.ndim)\n",
    "print(\"arr_new.shape = \", arr_new.shape)"
   ]
  },
  {
   "cell_type": "code",
   "execution_count": 46,
   "id": "77d55bd5-c2f9-4dfe-938c-22d6b3f23793",
   "metadata": {},
   "outputs": [
    {
     "name": "stdout",
     "output_type": "stream",
     "text": [
      "[[1 2 3 4 5 6 7 8 9]\n",
      " [1 2 3 4 5 6 7 8 9]] \n",
      "\n",
      "[[1 2 3]\n",
      " [1 2 3]\n",
      " [4 5 6]\n",
      " [4 5 6]\n",
      " [7 8 9]\n",
      " [7 8 9]] \n",
      "\n"
     ]
    }
   ],
   "source": [
    "arr_1 = np.array([[1, 2, 3],[1, 2, 3]])\n",
    "arr_2 = np.array([[4, 5, 6],[4, 5, 6]])\n",
    "arr_3 = np.array([[7, 8, 9],[7, 8, 9]])\n",
    "\n",
    "arr_total = np.concatenate([arr_1, arr_2, arr_3],axis=1)\n",
    "print(arr_total, '\\n')\n",
    "\n",
    "arr_total = np.vstack([arr_1, arr_2, arr_3])\n",
    "print(arr_total, '\\n')"
   ]
  },
  {
   "cell_type": "code",
   "execution_count": 48,
   "id": "2dd4ebe8-98ea-4de2-a113-1fb55dfdaa5d",
   "metadata": {},
   "outputs": [
    {
     "name": "stdout",
     "output_type": "stream",
     "text": [
      "[1, 2, 3, 99, 3, 2, 1] \n",
      "\n",
      "[1 2 3] [99  3] [2 1]\n"
     ]
    }
   ],
   "source": [
    "arr = [1, 2, 3, 99, 3, 2, 1]\n",
    "print(arr, '\\n')\n",
    "\n",
    "arr_1, arr_2, arr_3 = np.split(arr, [3, 5])\n",
    "print(arr_1, arr_2, arr_3)"
   ]
  },
  {
   "cell_type": "code",
   "execution_count": null,
   "id": "8ce5db5a-7c34-4f81-aba7-dc32fc48480c",
   "metadata": {},
   "outputs": [],
   "source": []
  }
 ],
 "metadata": {
  "kernelspec": {
   "display_name": "Python 3",
   "language": "python",
   "name": "python3"
  },
  "language_info": {
   "codemirror_mode": {
    "name": "ipython",
    "version": 3
   },
   "file_extension": ".py",
   "mimetype": "text/x-python",
   "name": "python",
   "nbconvert_exporter": "python",
   "pygments_lexer": "ipython3",
   "version": "3.8.8"
  }
 },
 "nbformat": 4,
 "nbformat_minor": 5
}
