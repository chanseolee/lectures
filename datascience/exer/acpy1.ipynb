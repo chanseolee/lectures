{
 "cells": [
  {
   "cell_type": "code",
   "execution_count": 3,
   "id": "3cb88eaa-dea0-43f4-b8b3-cdc9bee53dc2",
   "metadata": {},
   "outputs": [
    {
     "name": "stdout",
     "output_type": "stream",
     "text": [
      "hello world\n",
      "100\n",
      "3.14\n",
      "my name islee chan seo!\n"
     ]
    }
   ],
   "source": [
    "print(\"hello world\")\n",
    "print(100)\n",
    "pi=3.14\n",
    "print(pi)\n",
    "\n",
    "intro = \"my name is\"\n",
    "name = \"lee chan seo\"\n",
    "print (intro + name + \"!\")"
   ]
  },
  {
   "cell_type": "code",
   "execution_count": 4,
   "id": "51e93916-f4e5-425a-904e-f8596bd959e3",
   "metadata": {},
   "outputs": [],
   "source": [
    "user_name = \"chanseo\"\n",
    "user_birth_day = 20010710\n",
    "user_student = True\n",
    "user_email = \"chanseo710@hs.ac.kr\"\n",
    "\n"
   ]
  },
  {
   "cell_type": "code",
   "execution_count": 1,
   "id": "ebd3bcb4-6085-40da-93b2-5c2f4cde7715",
   "metadata": {},
   "outputs": [],
   "source": [
    "com = 2\n",
    "chair = 7\n",
    "family = 4\n",
    "\n"
   ]
  },
  {
   "cell_type": "code",
   "execution_count": 2,
   "id": "5584d31a-d3d5-452e-9c32-39f705731926",
   "metadata": {},
   "outputs": [],
   "source": [
    "PI = 3.14\n",
    "dollar = 1173.05\n",
    "yen = 10.66"
   ]
  },
  {
   "cell_type": "code",
   "execution_count": 5,
   "id": "08455cef-b5dc-4c65-9c94-a4b64f27e833",
   "metadata": {},
   "outputs": [
    {
     "name": "stdout",
     "output_type": "stream",
     "text": [
      "world of warcraft snadwich coke!\n"
     ]
    }
   ],
   "source": [
    "favorite_game = \"world of warcraft\"\n",
    "favorite_food = \" snadwich\"\n",
    "favorite_drink = \" coke\"\n",
    "\n",
    "print(favorite_game + favorite_food + favorite_drink + \"!\")\n"
   ]
  },
  {
   "cell_type": "code",
   "execution_count": null,
   "id": "51cc7ed0-29c8-4523-b387-29f5e60ad96f",
   "metadata": {},
   "outputs": [],
   "source": []
  }
 ],
 "metadata": {
  "kernelspec": {
   "display_name": "Python 3",
   "language": "python",
   "name": "python3"
  },
  "language_info": {
   "codemirror_mode": {
    "name": "ipython",
    "version": 3
   },
   "file_extension": ".py",
   "mimetype": "text/x-python",
   "name": "python",
   "nbconvert_exporter": "python",
   "pygments_lexer": "ipython3",
   "version": "3.8.8"
  }
 },
 "nbformat": 4,
 "nbformat_minor": 5
}
