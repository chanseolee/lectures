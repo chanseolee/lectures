def my_function(x):
    return x + 1


y = 3
my_function(y)


x = 1

class my_class:
    @staticmethod
    def my_method(self):
        return x + 1
    

cls = my_class()

print(cls.my_method())

#leap year
def check_leap_year(year):
    if year % 4 == 0:
        return str(year) + "is a leap year"
    else:
        return str(year) + "is a not leap year"
    
result = check_leap_year(2021)    
print(result)

#mult values

def square_point(x, y, z):
    x_squared = x ** 2
    y_squared = y ** 2
    z_squared = z ** 2
    return x_squared, y_squared, z_squared

three_squared, four_squared, five_squared = square_point(3, 4, 5)

print(three_squared, four_squared, five_squared)

#global variables

a = "hello"

def prints_a():
    print(a)
    
prints_a()    

#local variables

a = 5

def f1():
    a = 2
    print(a)
    
f1()    

#keword arguments

def findvolume(height, width, depth):
    print("height = " + str(height))
    print("width = " + str(width))
    print("depth = " + str(depth))
    return height * width * depth

print(findvolume(1, 2, 3))
