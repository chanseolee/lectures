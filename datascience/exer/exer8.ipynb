{
 "cells": [
  {
   "cell_type": "code",
   "execution_count": 1,
   "id": "bee66233-0219-4caa-bd34-e87766ab6b30",
   "metadata": {},
   "outputs": [],
   "source": [
    "import pandas as pd\n",
    "import numpy as np"
   ]
  },
  {
   "cell_type": "code",
   "execution_count": 2,
   "id": "9e579365-bb0d-40fc-97c8-08d52108ff4e",
   "metadata": {},
   "outputs": [
    {
     "data": {
      "text/plain": [
       "'1.2.4'"
      ]
     },
     "execution_count": 2,
     "metadata": {},
     "output_type": "execute_result"
    }
   ],
   "source": [
    "pd.__version__\n"
   ]
  },
  {
   "cell_type": "code",
   "execution_count": 3,
   "id": "d0ba4284-09cc-4263-adac-34aa996b8422",
   "metadata": {},
   "outputs": [
    {
     "name": "stdout",
     "output_type": "stream",
     "text": [
      "0    0.25\n",
      "1    0.50\n",
      "2    0.75\n",
      "3    1.00\n",
      "dtype: float64\n"
     ]
    }
   ],
   "source": [
    "ser = pd.Series([0.25, 0.5, 0.75, 1.0])\n",
    "print(ser)"
   ]
  },
  {
   "cell_type": "code",
   "execution_count": 7,
   "id": "fd1fc2ac-15ab-4727-a3ca-866fac12c049",
   "metadata": {},
   "outputs": [
    {
     "name": "stdout",
     "output_type": "stream",
     "text": [
      "[0.25 0.5  0.75 1.  ]\n",
      "RangeIndex(start=0, stop=4, step=1)\n"
     ]
    }
   ],
   "source": [
    "arr = ser.values\n",
    "print(arr)\n",
    "\n",
    "ind = ser.index\n",
    "print(ind)"
   ]
  },
  {
   "cell_type": "code",
   "execution_count": 9,
   "id": "e61b3103-866d-4af2-bd06-cf9ab445ce79",
   "metadata": {},
   "outputs": [
    {
     "name": "stdout",
     "output_type": "stream",
     "text": [
      "a    0.25\n",
      "b    0.50\n",
      "c    0.75\n",
      "d    1.00\n",
      "dtype: float64\n",
      "0.25\n"
     ]
    }
   ],
   "source": [
    "ser = pd.Series([0.25, 0.5, 0.75, 1.0], index=['a', 'b', 'c', 'd'])\n",
    "print(ser)\n",
    "\n",
    "print(ser['a'])"
   ]
  },
  {
   "cell_type": "code",
   "execution_count": 11,
   "id": "28511f03-16a5-4d7b-8f9a-f9bab5541c2d",
   "metadata": {},
   "outputs": [
    {
     "name": "stdout",
     "output_type": "stream",
     "text": [
      "california    38332521\n",
      "texas         26448193\n",
      "new york      19651127\n",
      "florida       19552860\n",
      "illinois      12882135\n",
      "dtype: int64\n",
      "california    38332521\n",
      "texas         26448193\n",
      "new york      19651127\n",
      "dtype: int64\n"
     ]
    }
   ],
   "source": [
    "population_dict = {'california':38332521,\n",
    "                  'texas':26448193,\n",
    "                  \"new york\":19651127,\n",
    "                  'florida':19552860,\n",
    "                  'illinois':12882135}\n",
    "\n",
    "population = pd.Series(population_dict)\n",
    "print(population)\n",
    "\n",
    "print(population['california':'new york'])"
   ]
  },
  {
   "cell_type": "code",
   "execution_count": 12,
   "id": "9d124cc9-e0ec-4a22-902f-feecc34befca",
   "metadata": {},
   "outputs": [
    {
     "name": "stdout",
     "output_type": "stream",
     "text": [
      "california    423967\n",
      "texas         695662\n",
      "new york      141297\n",
      "florida       170312\n",
      "illinois      149995\n",
      "dtype: int64\n"
     ]
    }
   ],
   "source": [
    "area_dict = {'california':423967,\n",
    "                  'texas':695662,\n",
    "                  \"new york\":141297,\n",
    "                  'florida':170312,\n",
    "                  'illinois':149995}\n",
    "\n",
    "area = pd.Series(area_dict)\n",
    "print(area)"
   ]
  },
  {
   "cell_type": "code",
   "execution_count": 16,
   "id": "541365f1-e68d-4b36-b38f-c3878b42a64f",
   "metadata": {},
   "outputs": [
    {
     "name": "stdout",
     "output_type": "stream",
     "text": [
      "            population    area\n",
      "california    38332521  423967\n",
      "texas         26448193  695662\n",
      "new york      19651127  141297\n",
      "florida       19552860  170312\n",
      "illinois      12882135  149995\n",
      "Index(['california', 'texas', 'new york', 'florida', 'illinois'], dtype='object') \n",
      "\n",
      "Index(['population', 'area'], dtype='object')\n"
     ]
    }
   ],
   "source": [
    "states = pd.DataFrame({'population':population, 'area':area})\n",
    "print(states)\n",
    "\n",
    "print(states.index, '\\n')\n",
    "print(states.columns)"
   ]
  },
  {
   "cell_type": "code",
   "execution_count": 19,
   "id": "a9efa2f6-ecc7-4790-8a8b-78904ab92844",
   "metadata": {},
   "outputs": [
    {
     "name": "stdout",
     "output_type": "stream",
     "text": [
      "[[0.39893937 0.37939126]\n",
      " [0.32772056 0.17191893]\n",
      " [0.05665893 0.13626836]] \n",
      "\n",
      "        foo       bar\n",
      "a  0.398939  0.379391\n",
      "b  0.327721  0.171919\n",
      "c  0.056659  0.136268\n"
     ]
    }
   ],
   "source": [
    "arr = np.random.rand(3, 2)\n",
    "print(arr, '\\n')\n",
    "\n",
    "df = pd.DataFrame(arr, columns=['foo', 'bar'], index=['a', 'b', 'c'])\n",
    "\n",
    "print(df)"
   ]
  },
  {
   "cell_type": "code",
   "execution_count": 23,
   "id": "4aa4d250-e267-450c-8180-fafc144b04f0",
   "metadata": {},
   "outputs": [
    {
     "name": "stdout",
     "output_type": "stream",
     "text": [
      "a    0.25\n",
      "b    0.50\n",
      "c    0.75\n",
      "d    1.00\n",
      "dtype: float64 \n",
      "\n",
      "True\n",
      "False\n",
      "Index(['a', 'b', 'c', 'd'], dtype='object')\n"
     ]
    }
   ],
   "source": [
    "ser = pd.Series([0.25, 0.5, 0.75, 1.0], index=['a', 'b', 'c', 'd'])\n",
    "\n",
    "print(ser, '\\n')\n",
    "print('a' in ser)\n",
    "print(0.25 in ser)\n",
    "\n",
    "print(ser.index)"
   ]
  },
  {
   "cell_type": "code",
   "execution_count": 25,
   "id": "fc562531-2d1f-454b-ae1d-4821222fdfa6",
   "metadata": {},
   "outputs": [
    {
     "name": "stdout",
     "output_type": "stream",
     "text": [
      "Index(['a', 'b', 'c', 'd'], dtype='object')\n",
      "a    0.125\n",
      "b    0.500\n",
      "c    0.750\n",
      "d    1.000\n",
      "e    1.250\n",
      "dtype: float64\n"
     ]
    }
   ],
   "source": [
    "print(ser.keys())\n",
    "ser['e'] = 1.25\n",
    "ser['a'] = 0.125\n",
    "\n",
    "print(ser)"
   ]
  },
  {
   "cell_type": "code",
   "execution_count": 29,
   "id": "58ba7c67-ee46-4bcb-ab41-5963e9ea6998",
   "metadata": {},
   "outputs": [
    {
     "name": "stdout",
     "output_type": "stream",
     "text": [
      "            population    area     density\n",
      "california    38332521  423967   90.413926\n",
      "texas         26448193  695662   38.018740\n",
      "new york      19651127  141297  139.076746\n",
      "florida       19552860  170312  114.806121\n",
      "illinois      12882135  149995   85.883763\n"
     ]
    }
   ],
   "source": [
    "states['density'] = states['population'] / states['area']\n",
    "print(states)"
   ]
  },
  {
   "cell_type": "code",
   "execution_count": 32,
   "id": "942945f4-5f2f-4286-89c9-fa80f4b37aae",
   "metadata": {},
   "outputs": [
    {
     "data": {
      "text/html": [
       "<div>\n",
       "<style scoped>\n",
       "    .dataframe tbody tr th:only-of-type {\n",
       "        vertical-align: middle;\n",
       "    }\n",
       "\n",
       "    .dataframe tbody tr th {\n",
       "        vertical-align: top;\n",
       "    }\n",
       "\n",
       "    .dataframe thead th {\n",
       "        text-align: right;\n",
       "    }\n",
       "</style>\n",
       "<table border=\"1\" class=\"dataframe\">\n",
       "  <thead>\n",
       "    <tr style=\"text-align: right;\">\n",
       "      <th></th>\n",
       "      <th>population</th>\n",
       "      <th>area</th>\n",
       "      <th>density</th>\n",
       "    </tr>\n",
       "  </thead>\n",
       "  <tbody>\n",
       "    <tr>\n",
       "      <th>california</th>\n",
       "      <td>38332521</td>\n",
       "      <td>423967</td>\n",
       "      <td>90.413926</td>\n",
       "    </tr>\n",
       "    <tr>\n",
       "      <th>texas</th>\n",
       "      <td>26448193</td>\n",
       "      <td>695662</td>\n",
       "      <td>38.018740</td>\n",
       "    </tr>\n",
       "    <tr>\n",
       "      <th>new york</th>\n",
       "      <td>19651127</td>\n",
       "      <td>141297</td>\n",
       "      <td>139.076746</td>\n",
       "    </tr>\n",
       "  </tbody>\n",
       "</table>\n",
       "</div>"
      ],
      "text/plain": [
       "            population    area     density\n",
       "california    38332521  423967   90.413926\n",
       "texas         26448193  695662   38.018740\n",
       "new york      19651127  141297  139.076746"
      ]
     },
     "execution_count": 32,
     "metadata": {},
     "output_type": "execute_result"
    }
   ],
   "source": [
    "states.iloc[:3]"
   ]
  },
  {
   "cell_type": "code",
   "execution_count": 33,
   "id": "848a469a-ab07-493d-a011-d252ee59472d",
   "metadata": {},
   "outputs": [
    {
     "name": "stdout",
     "output_type": "stream",
     "text": [
      "          population     density\n",
      "new york    19651127  139.076746\n",
      "florida     19552860  114.806121 \n",
      "\n"
     ]
    }
   ],
   "source": [
    "print(states.loc[states.density > 100,['population', 'density']], '\\n')"
   ]
  },
  {
   "cell_type": "code",
   "execution_count": null,
   "id": "6d064f59-e4d3-49fa-8924-9ce1d7bd37f4",
   "metadata": {},
   "outputs": [],
   "source": []
  }
 ],
 "metadata": {
  "kernelspec": {
   "display_name": "Python 3",
   "language": "python",
   "name": "python3"
  },
  "language_info": {
   "codemirror_mode": {
    "name": "ipython",
    "version": 3
   },
   "file_extension": ".py",
   "mimetype": "text/x-python",
   "name": "python",
   "nbconvert_exporter": "python",
   "pygments_lexer": "ipython3",
   "version": "3.8.8"
  }
 },
 "nbformat": 4,
 "nbformat_minor": 5
}
