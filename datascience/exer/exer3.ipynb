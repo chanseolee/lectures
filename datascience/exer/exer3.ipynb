{
 "cells": [
  {
   "cell_type": "code",
   "execution_count": 2,
   "id": "29e4424d-86da-4157-b2b3-0f7d0b6fbf99",
   "metadata": {
    "tags": []
   },
   "outputs": [
    {
     "ename": "TypeError",
     "evalue": "my_method() missing 1 required positional argument: 'self'",
     "output_type": "error",
     "traceback": [
      "\u001b[1;31m---------------------------------------------------------------------------\u001b[0m",
      "\u001b[1;31mTypeError\u001b[0m                                 Traceback (most recent call last)",
      "\u001b[1;32m<ipython-input-2-76edf42fc58c>\u001b[0m in \u001b[0;36m<module>\u001b[1;34m\u001b[0m\n\u001b[0;32m     19\u001b[0m \u001b[0mcls\u001b[0m \u001b[1;33m=\u001b[0m \u001b[0mmy_class\u001b[0m\u001b[1;33m(\u001b[0m\u001b[1;33m)\u001b[0m\u001b[1;33m\u001b[0m\u001b[1;33m\u001b[0m\u001b[0m\n\u001b[0;32m     20\u001b[0m \u001b[1;33m\u001b[0m\u001b[0m\n\u001b[1;32m---> 21\u001b[1;33m \u001b[0mprint\u001b[0m\u001b[1;33m(\u001b[0m\u001b[0mcls\u001b[0m\u001b[1;33m.\u001b[0m\u001b[0mmy_method\u001b[0m\u001b[1;33m(\u001b[0m\u001b[1;33m)\u001b[0m\u001b[1;33m)\u001b[0m\u001b[1;33m\u001b[0m\u001b[1;33m\u001b[0m\u001b[0m\n\u001b[0m",
      "\u001b[1;31mTypeError\u001b[0m: my_method() missing 1 required positional argument: 'self'"
     ]
    }
   ],
   "source": [
    "def my_function(x):\n",
    "    return x + 1\n",
    "\n",
    "\n",
    "y = 3\n",
    "my_function(y)\n",
    "\n",
    "\n",
    "x = 1\n",
    "\n",
    "class my_class:\n",
    "    @staticmethod\n",
    "    def my_method(self):\n",
    "        return x + 1\n",
    "    \n",
    "\n",
    "cls = my_class()\n",
    "\n",
    "print(cls.my_method())"
   ]
  },
  {
   "cell_type": "code",
   "execution_count": 5,
   "id": "0cbf3efe-d9d3-4b41-aa9e-724da4bc4051",
   "metadata": {},
   "outputs": [
    {
     "name": "stdout",
     "output_type": "stream",
     "text": [
      "2021is a not leap year\n"
     ]
    }
   ],
   "source": [
    "#leap year\n",
    "def check_leap_year(year):\n",
    "    if year % 4 == 0:\n",
    "        return str(year) + \"is a leap year\"\n",
    "    else:\n",
    "        return str(year) + \"is a not leap year\"\n",
    "    \n",
    "result = check_leap_year(2021)    \n",
    "print(result)"
   ]
  },
  {
   "cell_type": "code",
   "execution_count": 8,
   "id": "e30714d3-33bd-4bcf-bf35-73469d15a0af",
   "metadata": {},
   "outputs": [
    {
     "name": "stdout",
     "output_type": "stream",
     "text": [
      "9 16 25\n"
     ]
    }
   ],
   "source": [
    "#mult values\n",
    "\n",
    "def square_point(x, y, z):\n",
    "    x_squared = x ** 2\n",
    "    y_squared = y ** 2\n",
    "    z_squared = z ** 2\n",
    "    return x_squared, y_squared, z_squared\n",
    "\n",
    "three_squared, four_squared, five_squared = square_point(3, 4, 5)\n",
    "\n",
    "print(three_squared, four_squared, five_squared)\n",
    "    "
   ]
  },
  {
   "cell_type": "code",
   "execution_count": 11,
   "id": "5d327336-7174-492a-bd47-6c53fb831d3f",
   "metadata": {},
   "outputs": [
    {
     "name": "stdout",
     "output_type": "stream",
     "text": [
      "hello\n"
     ]
    }
   ],
   "source": [
    "#global variables\n",
    "\n",
    "a = \"hello\"\n",
    "\n",
    "def prints_a():\n",
    "    print(a)\n",
    "    \n",
    "prints_a()    "
   ]
  },
  {
   "cell_type": "code",
   "execution_count": 12,
   "id": "1cbc6832-7eae-444e-af20-ce26f5cac558",
   "metadata": {},
   "outputs": [
    {
     "name": "stdout",
     "output_type": "stream",
     "text": [
      "2\n"
     ]
    }
   ],
   "source": [
    "#local variables\n",
    "\n",
    "a = 5\n",
    "\n",
    "def f1():\n",
    "    a = 2\n",
    "    print(a)\n",
    "    \n",
    "f1()    "
   ]
  },
  {
   "cell_type": "code",
   "execution_count": 13,
   "id": "03380c03-0466-4694-a2d7-e01658054d2d",
   "metadata": {},
   "outputs": [
    {
     "name": "stdout",
     "output_type": "stream",
     "text": [
      "height = 1\n",
      "width = 2\n",
      "depth = 3\n",
      "6\n"
     ]
    }
   ],
   "source": [
    "#keword arguments\n",
    "\n",
    "def findvolume(height, width, depth):\n",
    "    print(\"height = \" + str(height))\n",
    "    print(\"width = \" + str(width))\n",
    "    print(\"depth = \" + str(depth))\n",
    "    return height * width * depth\n",
    "\n",
    "print(findvolume(1, 2, 3))"
   ]
  },
  {
   "cell_type": "code",
   "execution_count": null,
   "id": "74161a59-27a1-4071-a2eb-b98a01e192a1",
   "metadata": {},
   "outputs": [],
   "source": []
  }
 ],
 "metadata": {
  "kernelspec": {
   "display_name": "Python 3",
   "language": "python",
   "name": "python3"
  },
  "language_info": {
   "codemirror_mode": {
    "name": "ipython",
    "version": 3
   },
   "file_extension": ".py",
   "mimetype": "text/x-python",
   "name": "python",
   "nbconvert_exporter": "python",
   "pygments_lexer": "ipython3",
   "version": "3.8.8"
  }
 },
 "nbformat": 4,
 "nbformat_minor": 5
}
